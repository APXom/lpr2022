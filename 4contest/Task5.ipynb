{
 "cells": [
  {
   "cell_type": "code",
   "execution_count": 7,
   "id": "57e87373",
   "metadata": {},
   "outputs": [
    {
     "name": "stdout",
     "output_type": "stream",
     "text": [
      "-2.0000000000000004\n",
      "-2.0\n",
      "0.0\n",
      "0.0\n",
      "-6.0\n",
      "-1.9999999999999993\n"
     ]
    }
   ],
   "source": [
    "import numpy as np\n",
    "a = np.array([(1, 2), (3, 4)])\n",
    "b = a.T\n",
    "print(np.linalg.det(a))\n",
    "print(np.linalg.det(b))\n",
    "a = np.array([(1, 2), (0, 0)])\n",
    "print(np.linalg.det(a))\n",
    "a = np.array([(1, 2), (1, 2)])\n",
    "print(np.linalg.det(a))\n",
    "a = np.array([(3, 6), (3, 4)])\n",
    "print(np.linalg.det(a))\n",
    "a = np.array([(1, 2), (5, 8)])\n",
    "print(np.linalg.det(a))"
   ]
  },
  {
   "cell_type": "code",
   "execution_count": null,
   "id": "910415f2",
   "metadata": {},
   "outputs": [],
   "source": []
  }
 ],
 "metadata": {
  "kernelspec": {
   "display_name": "Python 3 (ipykernel)",
   "language": "python",
   "name": "python3"
  },
  "language_info": {
   "codemirror_mode": {
    "name": "ipython",
    "version": 3
   },
   "file_extension": ".py",
   "mimetype": "text/x-python",
   "name": "python",
   "nbconvert_exporter": "python",
   "pygments_lexer": "ipython3",
   "version": "3.10.6"
  }
 },
 "nbformat": 4,
 "nbformat_minor": 5
}
