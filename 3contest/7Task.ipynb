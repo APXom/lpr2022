{
 "cells": [
  {
   "cell_type": "code",
   "execution_count": null,
   "id": "33980788",
   "metadata": {},
   "outputs": [],
   "source": [
    "n = int(input())\n",
    "d = dict()\n",
    "for i in range(n):\n",
    "    s = input().split()\n",
    "    d[s[0]] = s[1]\n",
    "s = input()\n",
    "if s in d:\n",
    "    print(d[s])\n",
    "else:\n",
    "    print()"
   ]
  }
 ],
 "metadata": {
  "kernelspec": {
   "display_name": "Python 3 (ipykernel)",
   "language": "python",
   "name": "python3"
  },
  "language_info": {
   "codemirror_mode": {
    "name": "ipython",
    "version": 3
   },
   "file_extension": ".py",
   "mimetype": "text/x-python",
   "name": "python",
   "nbconvert_exporter": "python",
   "pygments_lexer": "ipython3",
   "version": "3.10.6"
  }
 },
 "nbformat": 4,
 "nbformat_minor": 5
}
