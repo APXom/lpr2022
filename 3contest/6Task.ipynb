{
 "cells": [
  {
   "cell_type": "code",
   "execution_count": 8,
   "id": "4b84a1b6",
   "metadata": {},
   "outputs": [
    {
     "name": "stdout",
     "output_type": "stream",
     "text": [
      "abcdef\n",
      "{'c', 'a', 'd', 'e', 'f', 'b'}\n",
      "21\n"
     ]
    }
   ],
   "source": [
    "d = {(i - 96): chr(i) for i in range(97, 123)}\n",
    "dstroke = {value: key for key, value in d.items()}\n",
    "s = set(input())\n",
    "print(s)\n",
    "res = 0\n",
    "for i in s:\n",
    "    res += dstroke[i]\n",
    "print(res)"
   ]
  },
  {
   "cell_type": "code",
   "execution_count": null,
   "id": "9cc64a7e",
   "metadata": {},
   "outputs": [],
   "source": []
  }
 ],
 "metadata": {
  "kernelspec": {
   "display_name": "Python 3 (ipykernel)",
   "language": "python",
   "name": "python3"
  },
  "language_info": {
   "codemirror_mode": {
    "name": "ipython",
    "version": 3
   },
   "file_extension": ".py",
   "mimetype": "text/x-python",
   "name": "python",
   "nbconvert_exporter": "python",
   "pygments_lexer": "ipython3",
   "version": "3.10.6"
  }
 },
 "nbformat": 4,
 "nbformat_minor": 5
}
