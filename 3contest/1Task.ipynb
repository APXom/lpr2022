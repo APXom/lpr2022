{
 "cells": [
  {
   "cell_type": "code",
   "execution_count": 2,
   "id": "63db4f02",
   "metadata": {},
   "outputs": [
    {
     "name": "stdout",
     "output_type": "stream",
     "text": [
      "Set Sept Sect\n",
      "{'e', 'S', 't'}\n"
     ]
    }
   ],
   "source": [
    "S = input().split()\n",
    "a = []\n",
    "for i in range(3):\n",
    "    a.append(set(S[i]))\n",
    "a[0] &= a[1]\n",
    "a[0] &= a[2]\n",
    "print(a[0])"
   ]
  },
  {
   "cell_type": "code",
   "execution_count": null,
   "id": "46f0ebde",
   "metadata": {},
   "outputs": [],
   "source": []
  }
 ],
 "metadata": {
  "kernelspec": {
   "display_name": "Python 3 (ipykernel)",
   "language": "python",
   "name": "python3"
  },
  "language_info": {
   "codemirror_mode": {
    "name": "ipython",
    "version": 3
   },
   "file_extension": ".py",
   "mimetype": "text/x-python",
   "name": "python",
   "nbconvert_exporter": "python",
   "pygments_lexer": "ipython3",
   "version": "3.10.6"
  }
 },
 "nbformat": 4,
 "nbformat_minor": 5
}
