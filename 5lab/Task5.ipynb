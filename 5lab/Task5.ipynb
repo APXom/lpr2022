{
 "cells": [
  {
   "cell_type": "code",
   "execution_count": null,
   "id": "437b94e8",
   "metadata": {},
   "outputs": [],
   "source": [
    "def gaussian_blur(img_array, sigma):\n",
    "    \"\"\"\n",
    "    Выполняет гауссово размытие с заданной дисперсией\n",
    "    \"\"\"\n",
    "    pass"
   ]
  }
 ],
 "metadata": {
  "kernelspec": {
   "display_name": "Python 3 (ipykernel)",
   "language": "python",
   "name": "python3"
  },
  "language_info": {
   "codemirror_mode": {
    "name": "ipython",
    "version": 3
   },
   "file_extension": ".py",
   "mimetype": "text/x-python",
   "name": "python",
   "nbconvert_exporter": "python",
   "pygments_lexer": "ipython3",
   "version": "3.10.6"
  }
 },
 "nbformat": 4,
 "nbformat_minor": 5
}
