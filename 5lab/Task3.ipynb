{
 "cells": [
  {
   "cell_type": "code",
   "execution_count": 2,
   "id": "c58535b0",
   "metadata": {},
   "outputs": [
    {
     "data": {
      "text/plain": [
       "array([0.        , 3.33333333, 3.33333333, 3.33333333, 0.        ])"
      ]
     },
     "execution_count": 2,
     "metadata": {},
     "output_type": "execute_result"
    }
   ],
   "source": [
    "import numpy as np\n",
    "import scipy\n",
    "a = np.array([0, 0, 10, 0, 0], dtype=float)\n",
    "w = np.array([1/3, 1/3, 1/3])\n",
    "scipy.ndimage.convolve1d(a, w)"
   ]
  },
  {
   "cell_type": "code",
   "execution_count": 3,
   "id": "8767eaba",
   "metadata": {},
   "outputs": [
    {
     "data": {
      "text/plain": [
       "array([0. , 2.5, 5. , 2.5, 0. ])"
      ]
     },
     "execution_count": 3,
     "metadata": {},
     "output_type": "execute_result"
    }
   ],
   "source": [
    "a = np.array([0, 0, 10, 0, 0], dtype=float)\n",
    "w = np.array([1/4, 1/2, 1/4])\n",
    "scipy.ndimage.convolve1d(a, w)"
   ]
  },
  {
   "cell_type": "code",
   "execution_count": 4,
   "id": "1431d4c4",
   "metadata": {},
   "outputs": [
    {
     "data": {
      "text/plain": [
       "array([0.        , 0.83333333, 1.66666667, 5.        , 1.66666667,\n",
       "       0.83333333, 0.        ])"
      ]
     },
     "execution_count": 4,
     "metadata": {},
     "output_type": "execute_result"
    }
   ],
   "source": [
    "a = np.array([0, 0, 0, 10, 0, 0, 0], dtype=float)\n",
    "w = np.array([1/12, 1/6, 1/2, 1/6, 1/12])\n",
    "scipy.ndimage.convolve1d(a, w)"
   ]
  },
  {
   "cell_type": "code",
   "execution_count": 5,
   "id": "c9c73213",
   "metadata": {},
   "outputs": [
    {
     "data": {
      "text/plain": [
       "array([[ 0.,  0.,  0.,  0.,  0.],\n",
       "       [ 0.,  0.,  0.,  0.,  0.],\n",
       "       [ 0.,  0., 10.,  0.,  0.],\n",
       "       [ 0.,  0.,  0.,  0.,  0.],\n",
       "       [ 0.,  0.,  0.,  0.,  0.]])"
      ]
     },
     "execution_count": 5,
     "metadata": {},
     "output_type": "execute_result"
    }
   ],
   "source": [
    "a = np.zeros((5, 5))\n",
    "a[2, 2] = 10\n",
    "a"
   ]
  },
  {
   "cell_type": "code",
   "execution_count": 6,
   "id": "604d87b7",
   "metadata": {},
   "outputs": [
    {
     "data": {
      "text/plain": [
       "array([[0.   , 0.   , 0.   , 0.   , 0.   ],\n",
       "       [0.   , 0.625, 1.25 , 0.625, 0.   ],\n",
       "       [0.   , 1.25 , 2.5  , 1.25 , 0.   ],\n",
       "       [0.   , 0.625, 1.25 , 0.625, 0.   ],\n",
       "       [0.   , 0.   , 0.   , 0.   , 0.   ]])"
      ]
     },
     "execution_count": 6,
     "metadata": {},
     "output_type": "execute_result"
    }
   ],
   "source": [
    "w = np.array([[1, 2, 1], [2, 4, 2], [1, 2, 1]], dtype=float)\n",
    "w /= w.sum()\n",
    "scipy.ndimage.convolve(a, w)"
   ]
  },
  {
   "cell_type": "code",
   "execution_count": 34,
   "id": "8d8d61d4",
   "metadata": {},
   "outputs": [
    {
     "name": "stdout",
     "output_type": "stream",
     "text": [
      "(3, 4)\n",
      "[[ 0.  0.  0.  0.  0.  0.]\n",
      " [ 0. 13. 20. 17. 58.  0.]\n",
      " [ 0. 87. 23. 45. 27.  0.]\n",
      " [ 0. 77. 19. 28. 55.  0.]\n",
      " [ 0.  0.  0.  0.  0.  0.]]\n",
      "[[ 1.  1.  1.  1.  1.  0.]\n",
      " [ 1. 14. 21. 18. 59.  0.]\n",
      " [ 1. 88. 24. 46. 28.  0.]\n",
      " [ 1. 78. 20. 29. 56.  0.]\n",
      " [ 0.  0.  0.  0.  0.  0.]]\n"
     ]
    }
   ],
   "source": [
    "img_arr = np.array([[13, 20, 17, 58], [87, 23, 45, 27], [77, 19, 28, 55]], dtype=float)\n",
    "weights_array = np.array([[1, 2, 1], [2, 4, 2], [1, 2, 1]], dtype=float)\n",
    "k = (np.shape(weights_array)[0]-1)//2\n",
    "sh = np.shape(img_arr)\n",
    "print(sh)\n",
    "def pad(img_array, weights_array, k, sh):\n",
    "    k1 = sh[0]\n",
    "    k2 = sh[1]\n",
    "    n1 = k1 + 2*k\n",
    "    n2 = k2 + 2*k\n",
    "    fin_arr = np.array([[0] * n2] * n1, dtype=float)\n",
    "    for i in range(k1):\n",
    "        for j in range(k2):\n",
    "            fin_arr[i + k][j + k] = img_array[i][j]\n",
    "    return fin_arr\n",
    "fin_arr = pad(img_arr, weights_array, k, sh)\n",
    "print(fin_arr)\n",
    "def blur(img_array, weights_array, n, sh):\n",
    "    k1 = sh[0]\n",
    "    k2 = sh[1]\n",
    "    for i in range(k1 + k + 1):\n",
    "        for j in range(k2 + k + 1):\n",
    "            for x in range(n):\n",
    "                for y in range(n):\n",
    "                    img_array[i + x][j + y] += weights_array[x][y]\n",
    "    return img_array\n",
    "print(blur(fin_arr, weights_array, k, sh))"
   ]
  },
  {
   "cell_type": "code",
   "execution_count": null,
   "id": "299bc236",
   "metadata": {},
   "outputs": [],
   "source": []
  }
 ],
 "metadata": {
  "kernelspec": {
   "display_name": "Python 3 (ipykernel)",
   "language": "python",
   "name": "python3"
  },
  "language_info": {
   "codemirror_mode": {
    "name": "ipython",
    "version": 3
   },
   "file_extension": ".py",
   "mimetype": "text/x-python",
   "name": "python",
   "nbconvert_exporter": "python",
   "pygments_lexer": "ipython3",
   "version": "3.10.6"
  }
 },
 "nbformat": 4,
 "nbformat_minor": 5
}
