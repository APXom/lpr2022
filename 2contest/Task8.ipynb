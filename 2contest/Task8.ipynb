{
 "cells": [
  {
   "cell_type": "code",
   "execution_count": 10,
   "id": "be3f5ce5",
   "metadata": {},
   "outputs": [
    {
     "ename": "IndexError",
     "evalue": "list index out of range",
     "output_type": "error",
     "traceback": [
      "\u001b[1;31m---------------------------------------------------------------------------\u001b[0m",
      "\u001b[1;31mIndexError\u001b[0m                                Traceback (most recent call last)",
      "Input \u001b[1;32mIn [10]\u001b[0m, in \u001b[0;36m<cell line: 2>\u001b[1;34m()\u001b[0m\n\u001b[0;32m      5\u001b[0m \u001b[38;5;28;01mfor\u001b[39;00m line \u001b[38;5;129;01min\u001b[39;00m file:\n\u001b[0;32m      6\u001b[0m     s \u001b[38;5;241m=\u001b[39m line\u001b[38;5;241m.\u001b[39msplit()\n\u001b[1;32m----> 7\u001b[0m     \u001b[43ma\u001b[49m\u001b[43m[\u001b[49m\u001b[43mi\u001b[49m\u001b[43m]\u001b[49m\u001b[38;5;241m.\u001b[39mappend(s[:\u001b[38;5;241m-\u001b[39m\u001b[38;5;241m2\u001b[39m])\n\u001b[0;32m      8\u001b[0m     a[i]\u001b[38;5;241m.\u001b[39mappend(s[\u001b[38;5;241m-\u001b[39m\u001b[38;5;241m1\u001b[39m])\n\u001b[0;32m      9\u001b[0m     i \u001b[38;5;241m+\u001b[39m\u001b[38;5;241m=\u001b[39m \u001b[38;5;241m1\u001b[39m\n",
      "\u001b[1;31mIndexError\u001b[0m: list index out of range"
     ]
    }
   ],
   "source": [
    "a = []\n",
    "with open('3file.txt', encoding='utf-8') as file:\n",
    "    a.append([])\n",
    "    i = 0\n",
    "    for line in file:\n",
    "        s = line.split()\n",
    "        a[i].append(s[:-2])\n",
    "        a[i].append(s[-1])\n",
    "        i += 1\n",
    "    print(a)\n",
    "    a = sorted(a, key = lambda x: x[0], reverse = True)\n",
    "    print(a)"
   ]
  },
  {
   "cell_type": "code",
   "execution_count": 3,
   "id": "e07ae4ff",
   "metadata": {},
   "outputs": [
    {
     "name": "stdout",
     "output_type": "stream",
     "text": [
      "Андреев Роман 75\n",
      "Васильев Андрей 56\n",
      "Иванов Сергей 56\n",
      "Петров Василий 99\n",
      "Романов Иван 68\n",
      "Сергеев Петр 74\n"
     ]
    }
   ],
   "source": [
    "with open('4file.txt', encoding='utf-8') as file:\n",
    "    res = []\n",
    "    for line in file:\n",
    "        line = line.strip().split()\n",
    "        res.append(line)\n",
    "    res.sort(key=lambda x: x[0])\n",
    "    for i in res:\n",
    "        print(i[0], i[1], i[3])"
   ]
  },
  {
   "cell_type": "code",
   "execution_count": null,
   "id": "dfaedd4e",
   "metadata": {},
   "outputs": [],
   "source": []
  }
 ],
 "metadata": {
  "kernelspec": {
   "display_name": "Python 3 (ipykernel)",
   "language": "python",
   "name": "python3"
  },
  "language_info": {
   "codemirror_mode": {
    "name": "ipython",
    "version": 3
   },
   "file_extension": ".py",
   "mimetype": "text/x-python",
   "name": "python",
   "nbconvert_exporter": "python",
   "pygments_lexer": "ipython3",
   "version": "3.10.6"
  }
 },
 "nbformat": 4,
 "nbformat_minor": 5
}
