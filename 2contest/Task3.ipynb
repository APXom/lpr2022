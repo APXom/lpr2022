{
 "cells": [
  {
   "cell_type": "code",
   "execution_count": 2,
   "id": "0f11b891",
   "metadata": {},
   "outputs": [
    {
     "name": "stdout",
     "output_type": "stream",
     "text": [
      "5\n",
      "[[0, 1, 2, 3, 4], [1, 1, 2, 3, 4], [2, 2, 2, 3, 4], [3, 3, 3, 3, 4], [4, 4, 4, 4, 4]]\n"
     ]
    }
   ],
   "source": [
    "n = int(input())\n",
    "A = [[max(i, j) for j in range(n)] for i in range(n)]\n",
    "print(A)"
   ]
  },
  {
   "cell_type": "code",
   "execution_count": null,
   "id": "65129703",
   "metadata": {},
   "outputs": [],
   "source": []
  }
 ],
 "metadata": {
  "kernelspec": {
   "display_name": "Python 3 (ipykernel)",
   "language": "python",
   "name": "python3"
  },
  "language_info": {
   "codemirror_mode": {
    "name": "ipython",
    "version": 3
   },
   "file_extension": ".py",
   "mimetype": "text/x-python",
   "name": "python",
   "nbconvert_exporter": "python",
   "pygments_lexer": "ipython3",
   "version": "3.10.6"
  }
 },
 "nbformat": 4,
 "nbformat_minor": 5
}
