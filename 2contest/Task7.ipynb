{
 "cells": [
  {
   "cell_type": "code",
   "execution_count": 20,
   "id": "8ba2ef12",
   "metadata": {},
   "outputs": [
    {
     "name": "stdout",
     "output_type": "stream",
     "text": [
      "[['13', '80'], ['26', '70'], ['35', '80'], ['13', '80'], ['35', '70'], ['26', '70']]\n",
      "[['13', '80'], ['35', '80'], ['13', '80'], ['26', '70'], ['35', '70'], ['26', '70']]\n",
      "80\n",
      "35 13 "
     ]
    }
   ],
   "source": [
    "a = []\n",
    "with open('3file.txt', encoding='utf-8') as file:\n",
    "    for line in file:\n",
    "        s = line.split()\n",
    "        a.append(s[-2:])\n",
    "    print(a)\n",
    "    a = sorted(a, key = lambda x: x[1], reverse = True)\n",
    "    print(a)\n",
    "    i = 1\n",
    "    print(a[0][1])\n",
    "    k = 1\n",
    "    while a[k][1] == a[k - 1][1]:\n",
    "        print(a[k][0], end = ' ')\n",
    "        k += 1"
   ]
  },
  {
   "cell_type": "code",
   "execution_count": null,
   "id": "9fdaac3c",
   "metadata": {},
   "outputs": [],
   "source": []
  }
 ],
 "metadata": {
  "kernelspec": {
   "display_name": "Python 3 (ipykernel)",
   "language": "python",
   "name": "python3"
  },
  "language_info": {
   "codemirror_mode": {
    "name": "ipython",
    "version": 3
   },
   "file_extension": ".py",
   "mimetype": "text/x-python",
   "name": "python",
   "nbconvert_exporter": "python",
   "pygments_lexer": "ipython3",
   "version": "3.10.6"
  }
 },
 "nbformat": 4,
 "nbformat_minor": 5
}
