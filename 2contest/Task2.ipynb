{
 "cells": [
  {
   "cell_type": "code",
   "execution_count": 4,
   "id": "f8702e0c",
   "metadata": {},
   "outputs": [
    {
     "name": "stdout",
     "output_type": "stream",
     "text": [
      "5 6\n",
      "[[0, 1, 1, 1, 1, 1], [2, 0, 1, 1, 1, 1], [2, 2, 0, 1, 1, 1], [2, 2, 2, 0, 1, 1], [2, 2, 2, 2, 0, 1]]\n"
     ]
    }
   ],
   "source": [
    "n, m = map(int, input().split())\n",
    "A = [[2*(j < i) + (i < j) for j in range(m)] for i in range(n)]\n",
    "print(A)"
   ]
  },
  {
   "cell_type": "code",
   "execution_count": null,
   "id": "54f39a93",
   "metadata": {},
   "outputs": [],
   "source": []
  }
 ],
 "metadata": {
  "kernelspec": {
   "display_name": "Python 3 (ipykernel)",
   "language": "python",
   "name": "python3"
  },
  "language_info": {
   "codemirror_mode": {
    "name": "ipython",
    "version": 3
   },
   "file_extension": ".py",
   "mimetype": "text/x-python",
   "name": "python",
   "nbconvert_exporter": "python",
   "pygments_lexer": "ipython3",
   "version": "3.10.6"
  }
 },
 "nbformat": 4,
 "nbformat_minor": 5
}
