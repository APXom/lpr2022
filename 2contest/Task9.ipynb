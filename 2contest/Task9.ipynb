{
 "cells": [
  {
   "cell_type": "code",
   "execution_count": 1,
   "id": "585e9e12",
   "metadata": {},
   "outputs": [
    {
     "name": "stdout",
     "output_type": "stream",
     "text": [
      "['Иванов', 'Сергей', '9', '90']\n",
      "['Сергеев', 'Петр', '10', '91']\n",
      "['Петров', 'Василий', '11', '92']\n",
      "['Васильев', 'Иван', '9', '93']\n",
      "91.5 91.0 92.0 "
     ]
    }
   ],
   "source": [
    "a = [0, 0, 0]\n",
    "counts = [0, 0, 0]\n",
    "with open('2file.txt', encoding='utf-8') as file:\n",
    "    for line in file:\n",
    "        s = line.split()\n",
    "        print(s)\n",
    "        ball = int(s[3])\n",
    "        clas = int(s[2])\n",
    "        a[clas - 9] += ball\n",
    "        counts[clas - 9] += 1\n",
    "for i in range(3):\n",
    "    print(a[i]/counts[i], end = ' ')"
   ]
  },
  {
   "cell_type": "code",
   "execution_count": null,
   "id": "abf2f040",
   "metadata": {},
   "outputs": [],
   "source": []
  }
 ],
 "metadata": {
  "kernelspec": {
   "display_name": "Python 3 (ipykernel)",
   "language": "python",
   "name": "python3"
  },
  "language_info": {
   "codemirror_mode": {
    "name": "ipython",
    "version": 3
   },
   "file_extension": ".py",
   "mimetype": "text/x-python",
   "name": "python",
   "nbconvert_exporter": "python",
   "pygments_lexer": "ipython3",
   "version": "3.10.6"
  }
 },
 "nbformat": 4,
 "nbformat_minor": 5
}
