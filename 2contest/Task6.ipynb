{
 "cells": [
  {
   "cell_type": "code",
   "execution_count": 14,
   "id": "efe06304",
   "metadata": {},
   "outputs": [
    {
     "name": "stdout",
     "output_type": "stream",
     "text": [
      "['Иванов', 'Сергей', '9', '90']\n",
      "['Сергеев', 'Петр', '10', '91']\n",
      "['Петров', 'Василий', '11', '92']\n",
      "['Васильев', 'Иван', '9', '93']\n",
      "93 91 92\n"
     ]
    }
   ],
   "source": [
    "a = [0, 0, 0]\n",
    "with open('2file.txt', encoding='utf-8') as file:\n",
    "    for line in file:\n",
    "        s = line.split()\n",
    "        print(s)\n",
    "        ball = int(s[3])\n",
    "        clas = int(s[2])\n",
    "        if ball > a[clas - 9]:\n",
    "            a[clas - 9] = ball\n",
    "print(*a)"
   ]
  },
  {
   "cell_type": "code",
   "execution_count": null,
   "id": "c9747209",
   "metadata": {},
   "outputs": [],
   "source": []
  }
 ],
 "metadata": {
  "kernelspec": {
   "display_name": "Python 3 (ipykernel)",
   "language": "python",
   "name": "python3"
  },
  "language_info": {
   "codemirror_mode": {
    "name": "ipython",
    "version": 3
   },
   "file_extension": ".py",
   "mimetype": "text/x-python",
   "name": "python",
   "nbconvert_exporter": "python",
   "pygments_lexer": "ipython3",
   "version": "3.10.6"
  }
 },
 "nbformat": 4,
 "nbformat_minor": 5
}
