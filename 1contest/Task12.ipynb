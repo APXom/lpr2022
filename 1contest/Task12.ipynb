{
 "cells": [
  {
   "cell_type": "code",
   "execution_count": 2,
   "id": "83c4a0eb",
   "metadata": {},
   "outputs": [
    {
     "name": "stdout",
     "output_type": "stream",
     "text": [
      "5\n",
      "12\n",
      "23\n",
      "34\n",
      "45\n",
      "56\n",
      "56\n",
      "45\n",
      "34\n",
      "23\n",
      "12\n"
     ]
    }
   ],
   "source": [
    "arr = []\n",
    "N = int(input())\n",
    "for i in range(N):\n",
    "    arr.append(int(input()))\n",
    "for k in range(N):\n",
    "    print(arr[-(k + 1)])"
   ]
  },
  {
   "cell_type": "code",
   "execution_count": null,
   "id": "b913dca9",
   "metadata": {},
   "outputs": [],
   "source": []
  }
 ],
 "metadata": {
  "kernelspec": {
   "display_name": "Python 3 (ipykernel)",
   "language": "python",
   "name": "python3"
  },
  "language_info": {
   "codemirror_mode": {
    "name": "ipython",
    "version": 3
   },
   "file_extension": ".py",
   "mimetype": "text/x-python",
   "name": "python",
   "nbconvert_exporter": "python",
   "pygments_lexer": "ipython3",
   "version": "3.10.6"
  }
 },
 "nbformat": 4,
 "nbformat_minor": 5
}
