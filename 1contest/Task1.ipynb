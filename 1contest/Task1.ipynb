{
 "cells": [
  {
   "cell_type": "code",
   "execution_count": 2,
   "id": "e5937f4a",
   "metadata": {},
   "outputs": [
    {
     "name": "stdout",
     "output_type": "stream",
     "text": [
      "0 0 1\n",
      "YES\n"
     ]
    }
   ],
   "source": [
    "x, y, r = map(int, input().split())\n",
    "if x*x + y*y <= r:\n",
    "    print('YES')\n",
    "else:\n",
    "    print('NO')"
   ]
  },
  {
   "cell_type": "code",
   "execution_count": 3,
   "id": "ac86108d",
   "metadata": {},
   "outputs": [
    {
     "name": "stdout",
     "output_type": "stream",
     "text": [
      "2 2 4\n",
      "NO\n"
     ]
    }
   ],
   "source": [
    "x, y, r = map(int, input().split())\n",
    "if (x*x + y*y) <= r:\n",
    "    print('YES')\n",
    "else:\n",
    "    print('NO')"
   ]
  },
  {
   "cell_type": "code",
   "execution_count": 4,
   "id": "42e1347c",
   "metadata": {},
   "outputs": [
    {
     "name": "stdout",
     "output_type": "stream",
     "text": [
      "2 2 4\n",
      "NO\n"
     ]
    }
   ],
   "source": [
    "x, y, r = map(int, input().split())\n",
    "if (x*x + y*y) <= r:\n",
    "    print('YES')\n",
    "else:\n",
    "    print('NO')"
   ]
  },
  {
   "cell_type": "code",
   "execution_count": 6,
   "id": "2836cf19",
   "metadata": {},
   "outputs": [
    {
     "name": "stdout",
     "output_type": "stream",
     "text": [
      "2 2 4\n",
      "YES\n"
     ]
    }
   ],
   "source": [
    "x, y, r = map(int, input().split())\n",
    "if (x*x + y*y)**0.5 <= r:\n",
    "    print('YES')\n",
    "else:\n",
    "    print('NO')"
   ]
  },
  {
   "cell_type": "code",
   "execution_count": null,
   "id": "d60d14d0",
   "metadata": {},
   "outputs": [],
   "source": [
    "-1 3 1"
   ]
  }
 ],
 "metadata": {
  "kernelspec": {
   "display_name": "Python 3 (ipykernel)",
   "language": "python",
   "name": "python3"
  },
  "language_info": {
   "codemirror_mode": {
    "name": "ipython",
    "version": 3
   },
   "file_extension": ".py",
   "mimetype": "text/x-python",
   "name": "python",
   "nbconvert_exporter": "python",
   "pygments_lexer": "ipython3",
   "version": "3.10.6"
  }
 },
 "nbformat": 4,
 "nbformat_minor": 5
}
