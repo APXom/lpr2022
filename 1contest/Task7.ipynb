{
 "cells": [
  {
   "cell_type": "code",
   "execution_count": 5,
   "id": "85b24fb8",
   "metadata": {},
   "outputs": [
    {
     "name": "stdout",
     "output_type": "stream",
     "text": [
      "Mary had a little lamb\n",
      "Mary   little lamb "
     ]
    }
   ],
   "source": [
    "S = input().split()\n",
    "for i in range(len(S)):\n",
    "    if len(S[i]) > 3:\n",
    "        print(S[i], end = ' ')\n",
    "    else:\n",
    "        print(' ', end = '')"
   ]
  },
  {
   "cell_type": "code",
   "execution_count": null,
   "id": "3061f2ed",
   "metadata": {},
   "outputs": [],
   "source": []
  }
 ],
 "metadata": {
  "kernelspec": {
   "display_name": "Python 3 (ipykernel)",
   "language": "python",
   "name": "python3"
  },
  "language_info": {
   "codemirror_mode": {
    "name": "ipython",
    "version": 3
   },
   "file_extension": ".py",
   "mimetype": "text/x-python",
   "name": "python",
   "nbconvert_exporter": "python",
   "pygments_lexer": "ipython3",
   "version": "3.10.6"
  }
 },
 "nbformat": 4,
 "nbformat_minor": 5
}
