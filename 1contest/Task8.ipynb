{
 "cells": [
  {
   "cell_type": "code",
   "execution_count": 4,
   "id": "dd9067b3",
   "metadata": {},
   "outputs": [
    {
     "name": "stdout",
     "output_type": "stream",
     "text": [
      "4 6\n",
      "1 2 3 4\n",
      "3 4 1 2\n"
     ]
    }
   ],
   "source": [
    "a, b = map(int, input().split())\n",
    "b %= a\n",
    "Numbers = [int(i) for  i in input().split()]\n",
    "Numbers = Numbers[b:] + Numbers[:b]\n",
    "print(*Numbers)"
   ]
  },
  {
   "cell_type": "code",
   "execution_count": null,
   "id": "76bf55c0",
   "metadata": {},
   "outputs": [],
   "source": []
  }
 ],
 "metadata": {
  "kernelspec": {
   "display_name": "Python 3 (ipykernel)",
   "language": "python",
   "name": "python3"
  },
  "language_info": {
   "codemirror_mode": {
    "name": "ipython",
    "version": 3
   },
   "file_extension": ".py",
   "mimetype": "text/x-python",
   "name": "python",
   "nbconvert_exporter": "python",
   "pygments_lexer": "ipython3",
   "version": "3.10.6"
  }
 },
 "nbformat": 4,
 "nbformat_minor": 5
}
