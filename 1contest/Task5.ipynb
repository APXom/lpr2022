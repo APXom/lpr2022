{
 "cells": [
  {
   "cell_type": "code",
   "execution_count": 5,
   "id": "04307b29",
   "metadata": {},
   "outputs": [
    {
     "name": "stdout",
     "output_type": "stream",
     "text": [
      "AAaaa Bbb\n",
      "3 5\n"
     ]
    }
   ],
   "source": [
    "S = input()\n",
    "countup = 0\n",
    "countlow = 0\n",
    "for i in range(len(S)):\n",
    "    if S[i].isupper():\n",
    "        countup += 1\n",
    "    elif S[i].islower():\n",
    "        countlow += 1\n",
    "print(countup, countlow)"
   ]
  },
  {
   "cell_type": "code",
   "execution_count": null,
   "id": "8ec35fad",
   "metadata": {},
   "outputs": [],
   "source": []
  }
 ],
 "metadata": {
  "kernelspec": {
   "display_name": "Python 3 (ipykernel)",
   "language": "python",
   "name": "python3"
  },
  "language_info": {
   "codemirror_mode": {
    "name": "ipython",
    "version": 3
   },
   "file_extension": ".py",
   "mimetype": "text/x-python",
   "name": "python",
   "nbconvert_exporter": "python",
   "pygments_lexer": "ipython3",
   "version": "3.10.6"
  }
 },
 "nbformat": 4,
 "nbformat_minor": 5
}
